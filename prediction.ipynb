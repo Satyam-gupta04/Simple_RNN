{
 "cells": [
  {
   "cell_type": "code",
   "execution_count": 1,
   "metadata": {},
   "outputs": [],
   "source": [
    "import numpy as np \n",
    "import tensorflow as tf\n",
    "from tensorflow.keras.datasets import imdb\n",
    "from tensorflow.keras.preprocessing import sequence\n",
    "from tensorflow.keras.models import load_model"
   ]
  },
  {
   "cell_type": "code",
   "execution_count": 2,
   "metadata": {},
   "outputs": [],
   "source": [
    "## Load the IMDB dataset word index\n",
    "\n",
    "word_index = imdb.get_word_index()\n",
    "reverse_word_index = { value: key for key, value in word_index.items()}"
   ]
  },
  {
   "cell_type": "code",
   "execution_count": 3,
   "metadata": {},
   "outputs": [
    {
     "name": "stderr",
     "output_type": "stream",
     "text": [
      "WARNING:absl:Compiled the loaded model, but the compiled metrics have yet to be built. `model.compile_metrics` will be empty until you train or evaluate the model.\n"
     ]
    },
    {
     "data": {
      "text/html": [
       "<pre style=\"white-space:pre;overflow-x:auto;line-height:normal;font-family:Menlo,'DejaVu Sans Mono',consolas,'Courier New',monospace\"><span style=\"font-weight: bold\">Model: \"sequential\"</span>\n",
       "</pre>\n"
      ],
      "text/plain": [
       "\u001b[1mModel: \"sequential\"\u001b[0m\n"
      ]
     },
     "metadata": {},
     "output_type": "display_data"
    },
    {
     "data": {
      "text/html": [
       "<pre style=\"white-space:pre;overflow-x:auto;line-height:normal;font-family:Menlo,'DejaVu Sans Mono',consolas,'Courier New',monospace\">┏━━━━━━━━━━━━━━━━━━━━━━━━━━━━━━━━━┳━━━━━━━━━━━━━━━━━━━━━━━━┳━━━━━━━━━━━━━━━┓\n",
       "┃<span style=\"font-weight: bold\"> Layer (type)                    </span>┃<span style=\"font-weight: bold\"> Output Shape           </span>┃<span style=\"font-weight: bold\">       Param # </span>┃\n",
       "┡━━━━━━━━━━━━━━━━━━━━━━━━━━━━━━━━━╇━━━━━━━━━━━━━━━━━━━━━━━━╇━━━━━━━━━━━━━━━┩\n",
       "│ embedding (<span style=\"color: #0087ff; text-decoration-color: #0087ff\">Embedding</span>)           │ (<span style=\"color: #00af00; text-decoration-color: #00af00\">32</span>, <span style=\"color: #00af00; text-decoration-color: #00af00\">500</span>, <span style=\"color: #00af00; text-decoration-color: #00af00\">128</span>)         │     <span style=\"color: #00af00; text-decoration-color: #00af00\">1,280,000</span> │\n",
       "├─────────────────────────────────┼────────────────────────┼───────────────┤\n",
       "│ simple_rnn (<span style=\"color: #0087ff; text-decoration-color: #0087ff\">SimpleRNN</span>)          │ (<span style=\"color: #00af00; text-decoration-color: #00af00\">32</span>, <span style=\"color: #00af00; text-decoration-color: #00af00\">128</span>)              │        <span style=\"color: #00af00; text-decoration-color: #00af00\">32,896</span> │\n",
       "├─────────────────────────────────┼────────────────────────┼───────────────┤\n",
       "│ dense (<span style=\"color: #0087ff; text-decoration-color: #0087ff\">Dense</span>)                   │ (<span style=\"color: #00af00; text-decoration-color: #00af00\">32</span>, <span style=\"color: #00af00; text-decoration-color: #00af00\">1</span>)                │           <span style=\"color: #00af00; text-decoration-color: #00af00\">129</span> │\n",
       "└─────────────────────────────────┴────────────────────────┴───────────────┘\n",
       "</pre>\n"
      ],
      "text/plain": [
       "┏━━━━━━━━━━━━━━━━━━━━━━━━━━━━━━━━━┳━━━━━━━━━━━━━━━━━━━━━━━━┳━━━━━━━━━━━━━━━┓\n",
       "┃\u001b[1m \u001b[0m\u001b[1mLayer (type)                   \u001b[0m\u001b[1m \u001b[0m┃\u001b[1m \u001b[0m\u001b[1mOutput Shape          \u001b[0m\u001b[1m \u001b[0m┃\u001b[1m \u001b[0m\u001b[1m      Param #\u001b[0m\u001b[1m \u001b[0m┃\n",
       "┡━━━━━━━━━━━━━━━━━━━━━━━━━━━━━━━━━╇━━━━━━━━━━━━━━━━━━━━━━━━╇━━━━━━━━━━━━━━━┩\n",
       "│ embedding (\u001b[38;5;33mEmbedding\u001b[0m)           │ (\u001b[38;5;34m32\u001b[0m, \u001b[38;5;34m500\u001b[0m, \u001b[38;5;34m128\u001b[0m)         │     \u001b[38;5;34m1,280,000\u001b[0m │\n",
       "├─────────────────────────────────┼────────────────────────┼───────────────┤\n",
       "│ simple_rnn (\u001b[38;5;33mSimpleRNN\u001b[0m)          │ (\u001b[38;5;34m32\u001b[0m, \u001b[38;5;34m128\u001b[0m)              │        \u001b[38;5;34m32,896\u001b[0m │\n",
       "├─────────────────────────────────┼────────────────────────┼───────────────┤\n",
       "│ dense (\u001b[38;5;33mDense\u001b[0m)                   │ (\u001b[38;5;34m32\u001b[0m, \u001b[38;5;34m1\u001b[0m)                │           \u001b[38;5;34m129\u001b[0m │\n",
       "└─────────────────────────────────┴────────────────────────┴───────────────┘\n"
      ]
     },
     "metadata": {},
     "output_type": "display_data"
    },
    {
     "data": {
      "text/html": [
       "<pre style=\"white-space:pre;overflow-x:auto;line-height:normal;font-family:Menlo,'DejaVu Sans Mono',consolas,'Courier New',monospace\"><span style=\"font-weight: bold\"> Total params: </span><span style=\"color: #00af00; text-decoration-color: #00af00\">1,313,027</span> (5.01 MB)\n",
       "</pre>\n"
      ],
      "text/plain": [
       "\u001b[1m Total params: \u001b[0m\u001b[38;5;34m1,313,027\u001b[0m (5.01 MB)\n"
      ]
     },
     "metadata": {},
     "output_type": "display_data"
    },
    {
     "data": {
      "text/html": [
       "<pre style=\"white-space:pre;overflow-x:auto;line-height:normal;font-family:Menlo,'DejaVu Sans Mono',consolas,'Courier New',monospace\"><span style=\"font-weight: bold\"> Trainable params: </span><span style=\"color: #00af00; text-decoration-color: #00af00\">1,313,025</span> (5.01 MB)\n",
       "</pre>\n"
      ],
      "text/plain": [
       "\u001b[1m Trainable params: \u001b[0m\u001b[38;5;34m1,313,025\u001b[0m (5.01 MB)\n"
      ]
     },
     "metadata": {},
     "output_type": "display_data"
    },
    {
     "data": {
      "text/html": [
       "<pre style=\"white-space:pre;overflow-x:auto;line-height:normal;font-family:Menlo,'DejaVu Sans Mono',consolas,'Courier New',monospace\"><span style=\"font-weight: bold\"> Non-trainable params: </span><span style=\"color: #00af00; text-decoration-color: #00af00\">0</span> (0.00 B)\n",
       "</pre>\n"
      ],
      "text/plain": [
       "\u001b[1m Non-trainable params: \u001b[0m\u001b[38;5;34m0\u001b[0m (0.00 B)\n"
      ]
     },
     "metadata": {},
     "output_type": "display_data"
    },
    {
     "data": {
      "text/html": [
       "<pre style=\"white-space:pre;overflow-x:auto;line-height:normal;font-family:Menlo,'DejaVu Sans Mono',consolas,'Courier New',monospace\"><span style=\"font-weight: bold\"> Optimizer params: </span><span style=\"color: #00af00; text-decoration-color: #00af00\">2</span> (12.00 B)\n",
       "</pre>\n"
      ],
      "text/plain": [
       "\u001b[1m Optimizer params: \u001b[0m\u001b[38;5;34m2\u001b[0m (12.00 B)\n"
      ]
     },
     "metadata": {},
     "output_type": "display_data"
    }
   ],
   "source": [
    "## Load the pre-trainned model with ReLU activation\n",
    "\n",
    "model = load_model('simple_rnn_imdb.h5')\n",
    "model.summary()"
   ]
  },
  {
   "cell_type": "code",
   "execution_count": 4,
   "metadata": {},
   "outputs": [
    {
     "data": {
      "text/plain": [
       "[array([[-0.03104615,  0.02257797,  0.05750607, ..., -0.05283218,\n",
       "          0.6430318 ,  0.12830152],\n",
       "        [-0.03465004, -0.00656028,  0.02778284, ...,  0.0307388 ,\n",
       "         -0.01964009,  0.05390569],\n",
       "        [-0.08575104, -0.01670147,  0.03340019, ...,  0.03195233,\n",
       "          0.13058518,  0.09429836],\n",
       "        ...,\n",
       "        [-0.02547882,  0.0041146 ,  0.03776351, ...,  0.03327706,\n",
       "         -0.0028749 , -0.10117882],\n",
       "        [-0.03391814,  0.0780094 ,  0.0229675 , ...,  0.08053636,\n",
       "          0.02618268,  0.02258171],\n",
       "        [-0.08430502, -0.13464871,  0.05308849, ...,  0.03948205,\n",
       "         -0.01564213, -0.07134578]], dtype=float32),\n",
       " array([[ 0.101475  , -0.04299151, -0.06307791, ..., -0.03110629,\n",
       "          0.15340838, -0.10666975],\n",
       "        [ 0.17923184,  0.03893016,  0.1358881 , ..., -0.07530069,\n",
       "          0.13546027, -0.01487166],\n",
       "        [-0.05592321,  0.01925782,  0.05693545, ...,  0.07572018,\n",
       "          0.0802848 ,  0.02058197],\n",
       "        ...,\n",
       "        [ 0.14230765, -0.01399631, -0.07056303, ...,  0.14758743,\n",
       "         -0.03980281, -0.11446974],\n",
       "        [-0.12819776, -0.11129186, -0.0225138 , ...,  0.06378709,\n",
       "          0.07386581, -0.01581563],\n",
       "        [ 0.04942381, -0.03467402,  0.02237698, ...,  0.08372837,\n",
       "         -0.14943822, -0.04514117]], dtype=float32),\n",
       " array([[-0.02270144,  0.00326376,  0.02343058, ..., -0.0612462 ,\n",
       "         -0.11157016, -0.10223638],\n",
       "        [ 0.06193075, -0.01671758, -0.07837082, ...,  0.06260845,\n",
       "         -0.02936673, -0.10997583],\n",
       "        [ 0.01221581, -0.13789968, -0.21421193, ...,  0.0596016 ,\n",
       "         -0.09916922, -0.18133835],\n",
       "        ...,\n",
       "        [-0.04739673, -0.09234539, -0.00246354, ...,  0.09258882,\n",
       "          0.03552821, -0.08258505],\n",
       "        [ 0.07545435, -0.05245163,  0.13582006, ...,  0.05156898,\n",
       "         -0.016248  ,  0.06640603],\n",
       "        [ 0.11415786, -0.05654581,  0.02573318, ...,  0.00743813,\n",
       "         -0.07793008, -0.06289126]], dtype=float32),\n",
       " array([-0.01257007, -0.01565995, -0.0253092 , -0.05558397, -0.02876842,\n",
       "        -0.05177437, -0.00621775, -0.02461249, -0.02175211, -0.03722765,\n",
       "        -0.00724619, -0.00393757, -0.03811889, -0.04534637,  0.01458856,\n",
       "        -0.02754484, -0.04111634,  0.01680447, -0.04165595, -0.03466125,\n",
       "        -0.00659273, -0.02553735,  0.04674732,  0.02771493, -0.02949187,\n",
       "         0.00578717,  0.00411039, -0.00839144, -0.02672218,  0.05245518,\n",
       "         0.00036569, -0.0119819 , -0.00069964, -0.01879078, -0.00933903,\n",
       "         0.01240147,  0.03063395, -0.01015087, -0.02685059, -0.00746986,\n",
       "        -0.0075441 ,  0.01588584,  0.00323354, -0.01079582, -0.02368159,\n",
       "        -0.01539566,  0.03625296,  0.01577141,  0.00374196,  0.00294721,\n",
       "        -0.02519648, -0.01005345, -0.03319686, -0.00912992,  0.01464176,\n",
       "        -0.04405091,  0.0123093 , -0.00218562, -0.04416638, -0.05748213,\n",
       "         0.00482721, -0.03239927,  0.01907127,  0.00476684, -0.01918022,\n",
       "         0.00576812, -0.03281706, -0.03118359,  0.00605822, -0.01300512,\n",
       "         0.0101212 , -0.01228538, -0.03119629, -0.02286477,  0.004128  ,\n",
       "        -0.0267936 ,  0.00300113, -0.01888533, -0.03792857,  0.04427607,\n",
       "        -0.02197435, -0.03882902, -0.02581808,  0.0273408 , -0.03307015,\n",
       "        -0.0167607 ,  0.02511621, -0.00520659, -0.0170308 , -0.02278246,\n",
       "        -0.00876249, -0.01172022, -0.01738049,  0.00848989, -0.00288894,\n",
       "        -0.00673125,  0.0910576 , -0.00948176, -0.02546848, -0.03566215,\n",
       "        -0.03004696, -0.01161188, -0.03301014,  0.01678418, -0.03996154,\n",
       "        -0.03205718,  0.02027096, -0.0142652 ,  0.01815345, -0.02194427,\n",
       "        -0.01544066, -0.01708326, -0.01206034, -0.02168872,  0.01331844,\n",
       "        -0.01334354, -0.00786911, -0.01795456, -0.04176978,  0.02325723,\n",
       "         0.00143062, -0.03059744, -0.00679915,  0.00964039, -0.02241089,\n",
       "        -0.01598228, -0.00315183, -0.02743566], dtype=float32),\n",
       " array([[ 0.1455444 ],\n",
       "        [-0.2095795 ],\n",
       "        [ 0.20900962],\n",
       "        [-0.1431687 ],\n",
       "        [-0.15316518],\n",
       "        [ 0.13566901],\n",
       "        [ 0.21139798],\n",
       "        [ 0.37255245],\n",
       "        [ 0.15219   ],\n",
       "        [ 0.00530454],\n",
       "        [ 0.02300379],\n",
       "        [-0.2146236 ],\n",
       "        [ 0.04588992],\n",
       "        [-0.10413016],\n",
       "        [-0.06181139],\n",
       "        [ 0.19273955],\n",
       "        [-0.06359483],\n",
       "        [-0.03819699],\n",
       "        [ 0.12024383],\n",
       "        [-0.09747425],\n",
       "        [-0.06743518],\n",
       "        [-0.02547505],\n",
       "        [-0.00290047],\n",
       "        [-0.09915125],\n",
       "        [-0.15815476],\n",
       "        [ 0.21456347],\n",
       "        [-0.19538303],\n",
       "        [-0.07288902],\n",
       "        [-0.2046213 ],\n",
       "        [-0.12092265],\n",
       "        [-0.08534843],\n",
       "        [-0.15607786],\n",
       "        [-0.0180729 ],\n",
       "        [ 0.25909045],\n",
       "        [-0.03804177],\n",
       "        [ 0.36381134],\n",
       "        [-0.2522037 ],\n",
       "        [ 0.29237542],\n",
       "        [-0.30794114],\n",
       "        [ 0.23351578],\n",
       "        [-0.16647948],\n",
       "        [ 0.3627188 ],\n",
       "        [-0.02558187],\n",
       "        [ 0.09119862],\n",
       "        [ 0.04419123],\n",
       "        [-0.21646973],\n",
       "        [-0.07099301],\n",
       "        [-0.05000537],\n",
       "        [-0.0248023 ],\n",
       "        [-0.2649402 ],\n",
       "        [-0.18073404],\n",
       "        [-0.17068216],\n",
       "        [-0.18336575],\n",
       "        [-0.23735961],\n",
       "        [ 0.11585163],\n",
       "        [ 0.12642877],\n",
       "        [ 0.13678148],\n",
       "        [-0.16408303],\n",
       "        [ 0.10472669],\n",
       "        [-0.02076318],\n",
       "        [-0.2507891 ],\n",
       "        [-0.1102833 ],\n",
       "        [-0.2590709 ],\n",
       "        [-0.06685983],\n",
       "        [ 0.18539132],\n",
       "        [ 0.15642078],\n",
       "        [ 0.05259864],\n",
       "        [-0.03760052],\n",
       "        [-0.10105563],\n",
       "        [-0.1761153 ],\n",
       "        [-0.02810264],\n",
       "        [ 0.27525243],\n",
       "        [-0.17631344],\n",
       "        [-0.1707824 ],\n",
       "        [ 0.20237063],\n",
       "        [ 0.12554544],\n",
       "        [-0.18947051],\n",
       "        [-0.13164975],\n",
       "        [ 0.0779528 ],\n",
       "        [ 0.03365571],\n",
       "        [-0.11320177],\n",
       "        [ 0.13952027],\n",
       "        [-0.20941287],\n",
       "        [ 0.03382782],\n",
       "        [-0.02909535],\n",
       "        [ 0.18216613],\n",
       "        [-0.16249074],\n",
       "        [ 0.25548434],\n",
       "        [ 0.06100598],\n",
       "        [ 0.21938425],\n",
       "        [ 0.09860899],\n",
       "        [ 0.22832517],\n",
       "        [ 0.18726781],\n",
       "        [ 0.26035443],\n",
       "        [ 0.20612432],\n",
       "        [-0.13854988],\n",
       "        [ 0.121316  ],\n",
       "        [ 0.02274859],\n",
       "        [-0.15992577],\n",
       "        [-0.16835548],\n",
       "        [ 0.05685692],\n",
       "        [ 0.01517956],\n",
       "        [ 0.08323834],\n",
       "        [-0.04139623],\n",
       "        [ 0.17693563],\n",
       "        [-0.15571798],\n",
       "        [-0.307382  ],\n",
       "        [-0.22224179],\n",
       "        [-0.17889461],\n",
       "        [ 0.1126033 ],\n",
       "        [-0.22440244],\n",
       "        [ 0.00348604],\n",
       "        [ 0.25368023],\n",
       "        [-0.24459463],\n",
       "        [-0.1329376 ],\n",
       "        [-0.22675645],\n",
       "        [ 0.1133643 ],\n",
       "        [-0.14887963],\n",
       "        [ 0.17484413],\n",
       "        [-0.00941083],\n",
       "        [-0.19134802],\n",
       "        [ 0.02513385],\n",
       "        [ 0.24236251],\n",
       "        [-0.09115949],\n",
       "        [-0.1998798 ],\n",
       "        [ 0.18833666],\n",
       "        [-0.09033059],\n",
       "        [ 0.015271  ]], dtype=float32),\n",
       " array([0.01483989], dtype=float32)]"
      ]
     },
     "execution_count": 4,
     "metadata": {},
     "output_type": "execute_result"
    }
   ],
   "source": [
    "model.get_weights()"
   ]
  },
  {
   "cell_type": "code",
   "execution_count": 5,
   "metadata": {},
   "outputs": [],
   "source": [
    "# Step 2: Helper Functions\n",
    "# Function to decode reviews\n",
    "def decode_review(encoded_review):\n",
    "    return ' '.join([reverse_word_index.get(i - 3, '?') for i in encoded_review])\n",
    "\n",
    "# Function to preprocess user input\n",
    "def preprocess_text(text):\n",
    "    words = text.lower().split()\n",
    "    encoded_review = [word_index.get(word, 2) + 3 for word in words]\n",
    "    padded_review = sequence.pad_sequences([encoded_review], maxlen=500)\n",
    "    return padded_review"
   ]
  },
  {
   "cell_type": "code",
   "execution_count": 6,
   "metadata": {},
   "outputs": [],
   "source": [
    "## Steip - 3 :\n",
    "### Prediction  function\n",
    "\n",
    "def predict_sentiment(review):\n",
    "    preprocessed_input=preprocess_text(review)\n",
    "\n",
    "    prediction=model.predict(preprocessed_input)\n",
    "\n",
    "    sentiment = 'Positive' if prediction[0][0] > 0.5 else 'Negative'\n",
    "    \n",
    "    return sentiment, prediction[0][0]\n",
    "\n",
    "\n"
   ]
  },
  {
   "cell_type": "code",
   "execution_count": 7,
   "metadata": {},
   "outputs": [
    {
     "name": "stdout",
     "output_type": "stream",
     "text": [
      "\u001b[1m1/1\u001b[0m \u001b[32m━━━━━━━━━━━━━━━━━━━━\u001b[0m\u001b[37m\u001b[0m \u001b[1m0s\u001b[0m 88ms/step\n",
      "Review: This movie was fantastic! The acting was great and the plot was thrilling.\n",
      "Sentiment: Positive\n",
      "Prediction Score: 0.9364544749259949\n"
     ]
    }
   ],
   "source": [
    "# Step 4: User Input and Prediction\n",
    "# Example review for prediction\n",
    "example_review = \"This movie was fantastic! The acting was great and the plot was thrilling.\"\n",
    "\n",
    "sentiment,score=predict_sentiment(example_review)\n",
    "\n",
    "print(f'Review: {example_review}')\n",
    "print(f'Sentiment: {sentiment}')\n",
    "print(f'Prediction Score: {score}')"
   ]
  },
  {
   "cell_type": "code",
   "execution_count": null,
   "metadata": {},
   "outputs": [],
   "source": []
  }
 ],
 "metadata": {
  "kernelspec": {
   "display_name": "base",
   "language": "python",
   "name": "python3"
  },
  "language_info": {
   "codemirror_mode": {
    "name": "ipython",
    "version": 3
   },
   "file_extension": ".py",
   "mimetype": "text/x-python",
   "name": "python",
   "nbconvert_exporter": "python",
   "pygments_lexer": "ipython3",
   "version": "3.12.4"
  }
 },
 "nbformat": 4,
 "nbformat_minor": 2
}
