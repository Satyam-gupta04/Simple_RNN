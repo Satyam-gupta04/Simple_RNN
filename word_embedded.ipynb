{
 "cells": [
  {
   "cell_type": "code",
   "execution_count": 1,
   "metadata": {},
   "outputs": [],
   "source": [
    "import tensorflow as tf "
   ]
  },
  {
   "cell_type": "code",
   "execution_count": 2,
   "metadata": {},
   "outputs": [],
   "source": [
    "from tensorflow.keras.preprocessing.text import one_hot"
   ]
  },
  {
   "cell_type": "code",
   "execution_count": 3,
   "metadata": {},
   "outputs": [],
   "source": [
    "sent =[\n",
    "    \"I love Python.\",\n",
    "    \"It is summer raining.\",\n",
    "    \"She is not very smart.\",\n",
    "    \"Dogs are cute.\",\n",
    "    \"Books are funbut borring too.\",\n",
    "    \"We play chess always.\",\n",
    "    \"The sun sets is very beautiful here.\",]\n"
   ]
  },
  {
   "cell_type": "code",
   "execution_count": 4,
   "metadata": {},
   "outputs": [],
   "source": [
    "##  We need to define vocaburary size\n",
    "\n",
    "voc_size =10000"
   ]
  },
  {
   "cell_type": "code",
   "execution_count": 5,
   "metadata": {},
   "outputs": [
    {
     "data": {
      "text/plain": [
       "[[6900, 3120, 8243],\n",
       " [2544, 2895, 1449, 5337],\n",
       " [6249, 2895, 2867, 270, 2517],\n",
       " [4500, 4630, 6303],\n",
       " [7082, 4630, 2155, 5289, 5857],\n",
       " [4787, 7606, 7941, 7529],\n",
       " [2243, 6264, 4185, 2895, 270, 6678, 8440]]"
      ]
     },
     "execution_count": 5,
     "metadata": {},
     "output_type": "execute_result"
    }
   ],
   "source": [
    "## One Hot for Every word \n",
    "one_hot_repr = [one_hot(words,voc_size) for words in sent]\n",
    "one_hot_repr"
   ]
  },
  {
   "cell_type": "markdown",
   "metadata": {},
   "source": [
    "## Word Emberding Representation"
   ]
  },
  {
   "cell_type": "code",
   "execution_count": 6,
   "metadata": {},
   "outputs": [],
   "source": [
    "from tensorflow.keras.layers import Embedding"
   ]
  },
  {
   "cell_type": "code",
   "execution_count": 7,
   "metadata": {},
   "outputs": [],
   "source": [
    "## We use Pad_sequences :-  if we See the upper given data then we realised that every sentences have different no. of words so  \n",
    "##                          we have to make equal maximum numbers of word in a sentences so that they can change Text into vectors .\n",
    "from tensorflow.keras.utils import pad_sequences\n",
    "from tensorflow.keras.models import Sequential"
   ]
  },
  {
   "cell_type": "code",
   "execution_count": 8,
   "metadata": {},
   "outputs": [],
   "source": [
    "import numpy as np "
   ]
  },
  {
   "cell_type": "code",
   "execution_count": 9,
   "metadata": {},
   "outputs": [
    {
     "name": "stdout",
     "output_type": "stream",
     "text": [
      "[[   0    0    0    0    0    0    0 6900 3120 8243]\n",
      " [   0    0    0    0    0    0 2544 2895 1449 5337]\n",
      " [   0    0    0    0    0 6249 2895 2867  270 2517]\n",
      " [   0    0    0    0    0    0    0 4500 4630 6303]\n",
      " [   0    0    0    0    0 7082 4630 2155 5289 5857]\n",
      " [   0    0    0    0    0    0 4787 7606 7941 7529]\n",
      " [   0    0    0 2243 6264 4185 2895  270 6678 8440]]\n"
     ]
    }
   ],
   "source": [
    "sent_length = 10  ## this help to make sentences make longer till 8 .\n",
    "embedded_docs = pad_sequences(one_hot_repr,padding='pre',maxlen=sent_length) ##  we use this to add zeros to make sentences long accoding to sent_length.... \n",
    "                                                                             ##  we can use padding= 'post' for adding zeros at the end.\n",
    "print(embedded_docs)"
   ]
  },
  {
   "cell_type": "code",
   "execution_count": 11,
   "metadata": {},
   "outputs": [],
   "source": [
    "## Feature representation :- Feature representation turns real things (like words, images, sounds) into numbers that a computer can understand and work with.\n",
    "##                           we can use maximum of 300 dimention but here we don't need that much so will use 15.\n",
    "\n",
    "dim = 15"
   ]
  },
  {
   "cell_type": "code",
   "execution_count": 12,
   "metadata": {},
   "outputs": [
    {
     "name": "stderr",
     "output_type": "stream",
     "text": [
      "/opt/anaconda3/lib/python3.12/site-packages/keras/src/layers/core/embedding.py:90: UserWarning: Argument `input_length` is deprecated. Just remove it.\n",
      "  warnings.warn(\n"
     ]
    }
   ],
   "source": [
    "model = Sequential()\n",
    "model.add(Embedding(voc_size,dim,input_length=sent_length))\n",
    "model.compile('adam','mse')"
   ]
  },
  {
   "cell_type": "code",
   "execution_count": 13,
   "metadata": {},
   "outputs": [
    {
     "data": {
      "text/html": [
       "<pre style=\"white-space:pre;overflow-x:auto;line-height:normal;font-family:Menlo,'DejaVu Sans Mono',consolas,'Courier New',monospace\"><span style=\"font-weight: bold\">Model: \"sequential\"</span>\n",
       "</pre>\n"
      ],
      "text/plain": [
       "\u001b[1mModel: \"sequential\"\u001b[0m\n"
      ]
     },
     "metadata": {},
     "output_type": "display_data"
    },
    {
     "data": {
      "text/html": [
       "<pre style=\"white-space:pre;overflow-x:auto;line-height:normal;font-family:Menlo,'DejaVu Sans Mono',consolas,'Courier New',monospace\">┏━━━━━━━━━━━━━━━━━━━━━━━━━━━━━━━━━┳━━━━━━━━━━━━━━━━━━━━━━━━┳━━━━━━━━━━━━━━━┓\n",
       "┃<span style=\"font-weight: bold\"> Layer (type)                    </span>┃<span style=\"font-weight: bold\"> Output Shape           </span>┃<span style=\"font-weight: bold\">       Param # </span>┃\n",
       "┡━━━━━━━━━━━━━━━━━━━━━━━━━━━━━━━━━╇━━━━━━━━━━━━━━━━━━━━━━━━╇━━━━━━━━━━━━━━━┩\n",
       "│ embedding (<span style=\"color: #0087ff; text-decoration-color: #0087ff\">Embedding</span>)           │ ?                      │   <span style=\"color: #00af00; text-decoration-color: #00af00\">0</span> (unbuilt) │\n",
       "└─────────────────────────────────┴────────────────────────┴───────────────┘\n",
       "</pre>\n"
      ],
      "text/plain": [
       "┏━━━━━━━━━━━━━━━━━━━━━━━━━━━━━━━━━┳━━━━━━━━━━━━━━━━━━━━━━━━┳━━━━━━━━━━━━━━━┓\n",
       "┃\u001b[1m \u001b[0m\u001b[1mLayer (type)                   \u001b[0m\u001b[1m \u001b[0m┃\u001b[1m \u001b[0m\u001b[1mOutput Shape          \u001b[0m\u001b[1m \u001b[0m┃\u001b[1m \u001b[0m\u001b[1m      Param #\u001b[0m\u001b[1m \u001b[0m┃\n",
       "┡━━━━━━━━━━━━━━━━━━━━━━━━━━━━━━━━━╇━━━━━━━━━━━━━━━━━━━━━━━━╇━━━━━━━━━━━━━━━┩\n",
       "│ embedding (\u001b[38;5;33mEmbedding\u001b[0m)           │ ?                      │   \u001b[38;5;34m0\u001b[0m (unbuilt) │\n",
       "└─────────────────────────────────┴────────────────────────┴───────────────┘\n"
      ]
     },
     "metadata": {},
     "output_type": "display_data"
    },
    {
     "data": {
      "text/html": [
       "<pre style=\"white-space:pre;overflow-x:auto;line-height:normal;font-family:Menlo,'DejaVu Sans Mono',consolas,'Courier New',monospace\"><span style=\"font-weight: bold\"> Total params: </span><span style=\"color: #00af00; text-decoration-color: #00af00\">0</span> (0.00 B)\n",
       "</pre>\n"
      ],
      "text/plain": [
       "\u001b[1m Total params: \u001b[0m\u001b[38;5;34m0\u001b[0m (0.00 B)\n"
      ]
     },
     "metadata": {},
     "output_type": "display_data"
    },
    {
     "data": {
      "text/html": [
       "<pre style=\"white-space:pre;overflow-x:auto;line-height:normal;font-family:Menlo,'DejaVu Sans Mono',consolas,'Courier New',monospace\"><span style=\"font-weight: bold\"> Trainable params: </span><span style=\"color: #00af00; text-decoration-color: #00af00\">0</span> (0.00 B)\n",
       "</pre>\n"
      ],
      "text/plain": [
       "\u001b[1m Trainable params: \u001b[0m\u001b[38;5;34m0\u001b[0m (0.00 B)\n"
      ]
     },
     "metadata": {},
     "output_type": "display_data"
    },
    {
     "data": {
      "text/html": [
       "<pre style=\"white-space:pre;overflow-x:auto;line-height:normal;font-family:Menlo,'DejaVu Sans Mono',consolas,'Courier New',monospace\"><span style=\"font-weight: bold\"> Non-trainable params: </span><span style=\"color: #00af00; text-decoration-color: #00af00\">0</span> (0.00 B)\n",
       "</pre>\n"
      ],
      "text/plain": [
       "\u001b[1m Non-trainable params: \u001b[0m\u001b[38;5;34m0\u001b[0m (0.00 B)\n"
      ]
     },
     "metadata": {},
     "output_type": "display_data"
    }
   ],
   "source": [
    "model.summary()"
   ]
  },
  {
   "cell_type": "code",
   "execution_count": 14,
   "metadata": {},
   "outputs": [
    {
     "name": "stdout",
     "output_type": "stream",
     "text": [
      "\u001b[1m1/1\u001b[0m \u001b[32m━━━━━━━━━━━━━━━━━━━━\u001b[0m\u001b[37m\u001b[0m \u001b[1m0s\u001b[0m 102ms/step\n"
     ]
    },
    {
     "data": {
      "text/plain": [
       "array([[[ 0.01772788, -0.03866953, -0.02289791, ..., -0.00720584,\n",
       "          0.01439459, -0.00052489],\n",
       "        [ 0.01772788, -0.03866953, -0.02289791, ..., -0.00720584,\n",
       "          0.01439459, -0.00052489],\n",
       "        [ 0.01772788, -0.03866953, -0.02289791, ..., -0.00720584,\n",
       "          0.01439459, -0.00052489],\n",
       "        ...,\n",
       "        [ 0.01884245,  0.00521728,  0.02759216, ...,  0.04098481,\n",
       "         -0.03980803, -0.00839963],\n",
       "        [ 0.02517165, -0.0325921 , -0.01690982, ..., -0.01997441,\n",
       "         -0.0029166 , -0.0071965 ],\n",
       "        [ 0.01469249,  0.03289444,  0.04622427, ...,  0.04187305,\n",
       "          0.04548366,  0.02546835]],\n",
       "\n",
       "       [[ 0.01772788, -0.03866953, -0.02289791, ..., -0.00720584,\n",
       "          0.01439459, -0.00052489],\n",
       "        [ 0.01772788, -0.03866953, -0.02289791, ..., -0.00720584,\n",
       "          0.01439459, -0.00052489],\n",
       "        [ 0.01772788, -0.03866953, -0.02289791, ..., -0.00720584,\n",
       "          0.01439459, -0.00052489],\n",
       "        ...,\n",
       "        [-0.04004035, -0.02346932,  0.00852673, ...,  0.03947865,\n",
       "         -0.01405435,  0.01023703],\n",
       "        [-0.01169752,  0.0135347 ,  0.0027879 , ..., -0.02891998,\n",
       "          0.02552957,  0.02976285],\n",
       "        [-0.04193087,  0.03435731, -0.04180669, ..., -0.04351648,\n",
       "         -0.02787292,  0.01654069]],\n",
       "\n",
       "       [[ 0.01772788, -0.03866953, -0.02289791, ..., -0.00720584,\n",
       "          0.01439459, -0.00052489],\n",
       "        [ 0.01772788, -0.03866953, -0.02289791, ..., -0.00720584,\n",
       "          0.01439459, -0.00052489],\n",
       "        [ 0.01772788, -0.03866953, -0.02289791, ..., -0.00720584,\n",
       "          0.01439459, -0.00052489],\n",
       "        ...,\n",
       "        [-0.01325949,  0.00499268,  0.02656018, ..., -0.00105526,\n",
       "         -0.01184436,  0.0019911 ],\n",
       "        [-0.03020272,  0.03541373,  0.01307914, ...,  0.01521465,\n",
       "         -0.00944956, -0.04011603],\n",
       "        [-0.02786713,  0.0367834 , -0.04706404, ...,  0.01708085,\n",
       "         -0.02789393, -0.00666428]],\n",
       "\n",
       "       ...,\n",
       "\n",
       "       [[ 0.01772788, -0.03866953, -0.02289791, ..., -0.00720584,\n",
       "          0.01439459, -0.00052489],\n",
       "        [ 0.01772788, -0.03866953, -0.02289791, ..., -0.00720584,\n",
       "          0.01439459, -0.00052489],\n",
       "        [ 0.01772788, -0.03866953, -0.02289791, ..., -0.00720584,\n",
       "          0.01439459, -0.00052489],\n",
       "        ...,\n",
       "        [-0.04697211,  0.01834365, -0.04703163, ..., -0.02239605,\n",
       "         -0.03683914,  0.00251429],\n",
       "        [-0.0241751 , -0.00745158,  0.04232341, ..., -0.03649331,\n",
       "         -0.03159451, -0.04144607],\n",
       "        [ 0.0259853 , -0.04377456, -0.04335214, ..., -0.00531014,\n",
       "          0.02755478, -0.02689593]],\n",
       "\n",
       "       [[ 0.01772788, -0.03866953, -0.02289791, ..., -0.00720584,\n",
       "          0.01439459, -0.00052489],\n",
       "        [ 0.01772788, -0.03866953, -0.02289791, ..., -0.00720584,\n",
       "          0.01439459, -0.00052489],\n",
       "        [ 0.01772788, -0.03866953, -0.02289791, ..., -0.00720584,\n",
       "          0.01439459, -0.00052489],\n",
       "        ...,\n",
       "        [ 0.03129933, -0.0481004 , -0.02997787, ...,  0.0258327 ,\n",
       "         -0.03081862, -0.02760096],\n",
       "        [-0.04450221, -0.01286759, -0.04057839, ...,  0.04499347,\n",
       "         -0.04783551, -0.0370544 ],\n",
       "        [ 0.02426758,  0.02612114,  0.00019997, ..., -0.00918953,\n",
       "         -0.01630322, -0.02326453]],\n",
       "\n",
       "       [[ 0.01772788, -0.03866953, -0.02289791, ..., -0.00720584,\n",
       "          0.01439459, -0.00052489],\n",
       "        [ 0.01772788, -0.03866953, -0.02289791, ..., -0.00720584,\n",
       "          0.01439459, -0.00052489],\n",
       "        [ 0.01772788, -0.03866953, -0.02289791, ..., -0.00720584,\n",
       "          0.01439459, -0.00052489],\n",
       "        ...,\n",
       "        [-0.03020272,  0.03541373,  0.01307914, ...,  0.01521465,\n",
       "         -0.00944956, -0.04011603],\n",
       "        [-0.02405026,  0.02968374,  0.00026733, ..., -0.00189281,\n",
       "          0.01846036, -0.04110882],\n",
       "        [-0.00598288, -0.00361663,  0.01158557, ..., -0.0148397 ,\n",
       "          0.03053062,  0.00695176]]], dtype=float32)"
      ]
     },
     "execution_count": 14,
     "metadata": {},
     "output_type": "execute_result"
    }
   ],
   "source": [
    "model.predict(embedded_docs)"
   ]
  },
  {
   "cell_type": "code",
   "execution_count": null,
   "metadata": {},
   "outputs": [],
   "source": []
  }
 ],
 "metadata": {
  "kernelspec": {
   "display_name": "base",
   "language": "python",
   "name": "python3"
  },
  "language_info": {
   "codemirror_mode": {
    "name": "ipython",
    "version": 3
   },
   "file_extension": ".py",
   "mimetype": "text/x-python",
   "name": "python",
   "nbconvert_exporter": "python",
   "pygments_lexer": "ipython3",
   "version": "3.12.4"
  }
 },
 "nbformat": 4,
 "nbformat_minor": 2
}
